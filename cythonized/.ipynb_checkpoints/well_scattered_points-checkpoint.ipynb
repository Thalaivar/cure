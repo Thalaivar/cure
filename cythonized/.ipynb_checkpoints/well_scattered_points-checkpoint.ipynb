{
 "cells": [
  {
   "cell_type": "code",
   "execution_count": 1,
   "metadata": {},
   "outputs": [],
   "source": [
    "%load_ext Cython"
   ]
  },
  {
   "cell_type": "code",
   "execution_count": 2,
   "metadata": {},
   "outputs": [],
   "source": [
    "%%cython\n",
    "import numpy as np\n",
    "cimport numpy as np\n",
    "from scipy.spatial.distance import cdist\n",
    "\n",
    "from scipy.spatial.distance import cdist, pdist\n",
    "\n",
    "cdef double dense_dist_mat_at_ij(double[:] dist, int i, int j, int n):\n",
    "    cdef int idx\n",
    "    if i < j:\n",
    "        idx = i*n - i*(i+1) // 2 - (j-i-1)\n",
    "    elif i > j:\n",
    "        idx = j*n - j*(j+1) // 2 - (i-j-1)\n",
    "    else:\n",
    "        return 0.0\n",
    "\n",
    "    return dist[idx]\n",
    "\n",
    "cpdef tuple well_scattered_points(int n_rep, np.ndarray[np.double_t, ndim=1] mean, np.ndarray[np.double_t, ndim=2] data):\n",
    "    cdef int n = data.shape[0]\n",
    "    # if the cluster contains less than no. of rep points, all points are rep points\n",
    "    if n <= n_rep:\n",
    "        return list(data), np.arange(data.shape[0])\n",
    "    \n",
    "    # calculate distances for fast access\n",
    "    cdef double[:] distances = pdist(data)\n",
    "\n",
    "    # farthest point from mean\n",
    "    cdef int idx = np.argmax(np.linalg.norm(data - mean, axis=1))\n",
    "    # get well scattered points\n",
    "    cdef int i, j, max_point\n",
    "    cdef float max_dist, min_dist\n",
    "    cdef list scatter_idx = [idx]\n",
    "    for i in range(1, n_rep):\n",
    "        max_dist = 0.0\n",
    "        for j in range(n):\n",
    "            # minimum distances from points in scatter_idx\n",
    "            min_dist = min([dense_dist_mat_at_ij(distances, idx, j, n) for idx in scatter_idx])\n",
    "            if min_dist > max_dist:\n",
    "                max_dist = min_dist\n",
    "                max_point = j\n",
    "        \n",
    "        scatter_idx.append(max_point)\n",
    "    \n",
    "    return [data[i] for i in scatter_idx], scatter_idx"
   ]
  },
  {
   "cell_type": "code",
   "execution_count": null,
   "metadata": {},
   "outputs": [],
   "source": [
    "import numpy as np\n",
    "%timeit well_scattered_points(1000, np.zeros((10,)), np.random.rand(2000, 10).astype(np.float64))"
   ]
  },
  {
   "cell_type": "code",
   "execution_count": 10,
   "metadata": {},
   "outputs": [],
   "source": [
    "from scipy.spatial.distance import cdist, pdist\n",
    "\n",
    "def dense_dist_mat_at_ij(dist, i, j, n):\n",
    "    if i < j:\n",
    "        idx = int(i*n - i*(i+1) // 2 - (j-i-1))\n",
    "    elif i > j:\n",
    "        idx = int(j*n - j*(j+1) // 2 - (i-j-1))\n",
    "    else:\n",
    "        return 0.0\n",
    "\n",
    "    return dist[idx]\n",
    "\n",
    "def py_well_scattered_points(n_rep: int, mean: np.ndarray, data: np.ndarray):\n",
    "    n = data.shape[0]\n",
    "    # if the cluster contains less than no. of rep points, all points are rep points\n",
    "    if n <= n_rep:\n",
    "        return list(data), np.arange(data.shape[0])\n",
    "    \n",
    "    # calculate distances for fast access\n",
    "    distances = pdist(data)\n",
    "\n",
    "    # farthest point from mean\n",
    "    idx = np.argmax(np.linalg.norm(data - mean, axis=1))\n",
    "    # get well scattered points\n",
    "    scatter_idx = [idx]\n",
    "    for _ in range(1, n_rep):\n",
    "        max_dist = 0.0\n",
    "        for j in range(n):\n",
    "            # minimum distances from points in scatter_idx\n",
    "            min_dist = min([dense_dist_mat_at_ij(distances, idx, j, n) for idx in scatter_idx])\n",
    "            if min_dist > max_dist:\n",
    "                max_dist = min_dist\n",
    "                max_point = j\n",
    "        \n",
    "        scatter_idx.append(max_point)\n",
    "    \n",
    "    return [data[i] for i in scatter_idx], scatter_idx"
   ]
  },
  {
   "cell_type": "code",
   "execution_count": null,
   "metadata": {},
   "outputs": [],
   "source": [
    "import numpy as np\n",
    "%timeit -n1 -r2 py_well_scattered_points(1000, np.zeros((10,)), np.random.rand(2000, 10).astype(np.float64))"
   ]
  },
  {
   "cell_type": "markdown",
   "metadata": {},
   "source": [
    "# keep track of minimum distances"
   ]
  },
  {
   "cell_type": "code",
   "execution_count": null,
   "metadata": {},
   "outputs": [],
   "source": [
    "%%cython\n",
    "import numpy as np\n",
    "cimport numpy as np\n",
    "from cpython cimport array\n",
    "import array\n",
    "from scipy.spatial.distance import cdist\n",
    "\n",
    "from scipy.spatial.distance import cdist, pdist\n",
    "\n",
    "cdef double dense_dist_mat_at_ij(double[:] dist, int i, int j, int n):\n",
    "    cdef int idx\n",
    "    if i < j:\n",
    "        idx = i*n - i*(i+1) // 2 - (j-i-1)\n",
    "    elif i > j:\n",
    "        idx = j*n - j*(j+1) // 2 - (i-j-1)\n",
    "    else:\n",
    "        return 0.0\n",
    "\n",
    "    return dist[idx]\n",
    "\n",
    "cpdef tuple wsp_fast(int n_rep, np.ndarray[np.double_t, ndim=1] mean, np.ndarray[np.double_t, ndim=2] data):\n",
    "    cdef int n = data.shape[0]\n",
    "    \n",
    "    # if the cluster contains less than no. of rep points, all points are rep points\n",
    "    if n <= n_rep:\n",
    "        return list(data), np.arange(data.shape[0])\n",
    "    \n",
    "    # calculate distances for fast access\n",
    "    cdef double[:] distances = pdist(data)\n",
    "\n",
    "    # farthest point from mean\n",
    "    cdef int idx = np.argmax(np.linalg.norm(data - mean, axis=1))\n",
    "    \n",
    "    # keep track of distances to scattered points\n",
    "    cdef np.ndarray[np.double_t, ndim=2] dist_to_scatter = -1.0*np.ones((n_rep, n)).astype(np.float64)\n",
    "\n",
    "    # scatter points indices relative to data\n",
    "    cdef array.array scatter_idx = array.array('i', [-1]*n_rep)\n",
    "\n",
    "    cdef int i, j, k, max_point, min_dist_idx\n",
    "    cdef double min_dist, max_dist, dist\n",
    "    \n",
    "    scatter_idx[0] = idx\n",
    "    for i in range(n_rep-1):\n",
    "        # calculate distances to latest scatter point\n",
    "        for j in range(n):\n",
    "            dist_to_scatter[i,j] = dense_dist_mat_at_ij(distances, scatter_idx[i], j, n)\n",
    "        # check max distance to all identified scatter points\n",
    "        max_dist = 0.0\n",
    "        for k in range(i+1):\n",
    "            # for each scatter point, check the data point that is closest to it\n",
    "            print(k)\n",
    "            min_dist_idx = np.argmin(dist_to_scatter[k,:])\n",
    "            # out of closest data points, check for the farthest\n",
    "            if dist_to_scatter[k, min_dist_idx] > max_dist:\n",
    "                max_dist = dist_to_scatter[k, min_dist_idx]\n",
    "                max_point = min_dist_idx\n",
    "        scatter_idx[i+1] = max_point\n",
    "\n",
    "    return [data[i] for i in scatter_idx], scatter_idx"
   ]
  },
  {
   "cell_type": "code",
   "execution_count": 14,
   "metadata": {},
   "outputs": [
    {
     "name": "stdout",
     "output_type": "stream",
     "text": [
      "51.3 s ± 300 ms per loop (mean ± std. dev. of 2 runs, 2 loops each)\n",
      "3.53 s ± 7.13 ms per loop (mean ± std. dev. of 2 runs, 2 loops each)\n"
     ]
    }
   ],
   "source": [
    "import numpy as np\n",
    "data = np.random.rand(2000, 10).astype(np.float64)\n",
    "mean = np.zeros((10,)).astype(np.float64)\n",
    "# %timeit -n2 -r2 py_well_scattered_points(100, mean, data)\n",
    "%timeit -n2 -r2 well_scattered_points(1000, mean, data)\n",
    "%timeit -n2 -r2 wsp_fast(1000, mean, data)"
   ]
  },
  {
   "cell_type": "code",
   "execution_count": null,
   "metadata": {},
   "outputs": [],
   "source": [
    "_, idx1 = well_scattered_points(100, mean, data)\n",
    "_, idx2 = wsp_fast(100, mean, data)"
   ]
  },
  {
   "cell_type": "code",
   "execution_count": null,
   "metadata": {},
   "outputs": [],
   "source": [
    "print(np.vstack((idx1, idx2)))"
   ]
  }
 ],
 "metadata": {
  "kernelspec": {
   "display_name": "Python 3",
   "language": "python",
   "name": "python3"
  },
  "language_info": {
   "codemirror_mode": {
    "name": "ipython",
    "version": 3
   },
   "file_extension": ".py",
   "mimetype": "text/x-python",
   "name": "python",
   "nbconvert_exporter": "python",
   "pygments_lexer": "ipython3",
   "version": "3.7.6"
  }
 },
 "nbformat": 4,
 "nbformat_minor": 4
}
