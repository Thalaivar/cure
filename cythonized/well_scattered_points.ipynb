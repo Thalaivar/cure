{
 "cells": [
  {
   "cell_type": "code",
   "execution_count": 2,
   "metadata": {},
   "outputs": [],
   "source": [
    "%load_ext Cython"
   ]
  },
  {
   "cell_type": "code",
   "execution_count": 3,
   "metadata": {},
   "outputs": [],
   "source": [
    "%%cython\n",
    "import numpy as np\n",
    "cimport numpy as np\n",
    "from scipy.spatial.distance import cdist\n",
    "\n",
    "from scipy.spatial.distance import cdist, pdist\n",
    "\n",
    "cdef double dense_dist_mat_at_ij(double[:] dist, int i, int j, int n):\n",
    "    cdef int idx\n",
    "    if i < j:\n",
    "        idx = i*n - i*(i+1) // 2 - (j-i-1)\n",
    "    elif i > j:\n",
    "        idx = j*n - j*(j+1) // 2 - (i-j-1)\n",
    "    else:\n",
    "        return 0.0\n",
    "\n",
    "    return dist[idx]\n",
    "\n",
    "cpdef tuple well_scattered_points(int n_rep, np.ndarray[np.double_t, ndim=1] mean, np.ndarray[np.double_t, ndim=2] data):\n",
    "    cdef int n = data.shape[0]\n",
    "    # if the cluster contains less than no. of rep points, all points are rep points\n",
    "    if n <= n_rep:\n",
    "        return list(data), np.arange(data.shape[0])\n",
    "    \n",
    "    # calculate distances for fast access\n",
    "    cdef double[:] distances = pdist(data)\n",
    "\n",
    "    # farthest point from mean\n",
    "    cdef int idx = np.argmax(np.linalg.norm(data - mean, axis=1))\n",
    "    # get well scattered points\n",
    "    cdef int i, j, max_point\n",
    "    cdef float max_dist, min_dist\n",
    "    cdef list scatter_idx = [idx]\n",
    "    for i in range(1, n_rep):\n",
    "        max_dist = 0.0\n",
    "        for j in range(n):\n",
    "            # minimum distances from points in scatter_idx\n",
    "            min_dist = min([dense_dist_mat_at_ij(distances, idx, j, n) for idx in scatter_idx])\n",
    "            if min_dist > max_dist:\n",
    "                max_dist = min_dist\n",
    "                max_point = j\n",
    "        \n",
    "        scatter_idx.append(max_point)\n",
    "    \n",
    "    return [data[i] for i in scatter_idx], scatter_idx"
   ]
  },
  {
   "cell_type": "code",
   "execution_count": null,
   "metadata": {},
   "outputs": [],
   "source": [
    "import numpy as np\n",
    "%timeit well_scattered_points(1000, np.zeros((10,)), np.random.rand(2000, 10).astype(np.float64))"
   ]
  },
  {
   "cell_type": "code",
   "execution_count": 65,
   "metadata": {},
   "outputs": [],
   "source": [
    "from scipy.spatial.distance import cdist, pdist\n",
    "\n",
    "def dense_dist_mat_at_ij(dist, i, j, n):\n",
    "    if i < j:\n",
    "        idx = int(i*n - i*(i+1) // 2 - (j-i-1))\n",
    "    elif i > j:\n",
    "        idx = int(j*n - j*(j+1) // 2 - (i-j-1))\n",
    "    else:\n",
    "        return 0.0\n",
    "\n",
    "    return dist[idx]\n",
    "\n",
    "def py_well_scattered_points(n_rep: int, mean: np.ndarray, data: np.ndarray):\n",
    "    n = data.shape[0]\n",
    "    # if the cluster contains less than no. of rep points, all points are rep points\n",
    "    if n <= n_rep:\n",
    "        return list(data), np.arange(data.shape[0])\n",
    "    \n",
    "    # calculate distances for fast access\n",
    "    distances = pdist(data)\n",
    "\n",
    "    # farthest point from mean\n",
    "    idx = np.argmax(np.linalg.norm(data - mean, axis=1))\n",
    "    # get well scattered points\n",
    "    scatter_idx = [idx]\n",
    "    for _ in range(1, n_rep):\n",
    "        max_dist = 0.0\n",
    "        for j in range(n):\n",
    "            # minimum distances from points in scatter_idx\n",
    "            min_dist = min([dense_dist_mat_at_ij(distances, idx, j, n) for idx in scatter_idx])\n",
    "            if min_dist > max_dist:\n",
    "                max_dist = min_dist\n",
    "                max_point = j\n",
    "        \n",
    "        scatter_idx.append(max_point)\n",
    "    \n",
    "    return [data[i] for i in scatter_idx], scatter_idx"
   ]
  },
  {
   "cell_type": "code",
   "execution_count": null,
   "metadata": {},
   "outputs": [],
   "source": [
    "import numpy as np\n",
    "%timeit -n1 -r2 py_well_scattered_points(1000, np.zeros((10,)), np.random.rand(2000, 10).astype(np.float64))"
   ]
  },
  {
   "cell_type": "markdown",
   "metadata": {},
   "source": [
    "# keep track of minimum distances"
   ]
  },
  {
   "cell_type": "code",
   "execution_count": 69,
   "metadata": {},
   "outputs": [],
   "source": [
    "%%cython\n",
    "import numpy as np\n",
    "cimport numpy as np\n",
    "from cpython cimport array\n",
    "import array\n",
    "from scipy.spatial.distance import cdist\n",
    "\n",
    "from scipy.spatial.distance import cdist, pdist\n",
    "\n",
    "cdef double dense_dist_mat_at_ij(double[:] dist, int i, int j, int n):\n",
    "    cdef int idx\n",
    "    if i < j:\n",
    "        idx = i*n - i*(i+1) // 2 - (j-i-1)\n",
    "    elif i > j:\n",
    "        idx = j*n - j*(j+1) // 2 - (i-j-1)\n",
    "    else:\n",
    "        return 0.0\n",
    "\n",
    "    return dist[idx]\n",
    "\n",
    "cpdef tuple wsp_fast(int n_rep, np.ndarray[np.double_t, ndim=1] mean, np.ndarray[np.double_t, ndim=2] data):\n",
    "    cdef int n = data.shape[0]\n",
    "    \n",
    "    # if the cluster contains less than no. of rep points, all points are rep points\n",
    "    if n <= n_rep:\n",
    "        return list(data), np.arange(data.shape[0])\n",
    "    \n",
    "    # calculate distances for fast access\n",
    "    cdef double[:] distances = pdist(data)\n",
    "\n",
    "    # farthest point from mean\n",
    "    cdef int idx = np.argmax(np.linalg.norm(data - mean, axis=1))\n",
    "    \n",
    "    # keep track of distances to scattered points\n",
    "    cdef np.ndarray[np.double_t, ndim=2] dist_to_scatter = -1.0*np.ones((n_rep, n)).astype(np.float64)\n",
    "\n",
    "    # scatter points indices relative to data\n",
    "    cdef list scatter_idx = [idx]\n",
    "    cdef int i, j, k, max_point, min_dist_idx\n",
    "    cdef double min_dist, max_dist, dist\n",
    "    \n",
    "    for i in range(n_rep-1):\n",
    "        max_dist = 0.0\n",
    "        for j in range(n):\n",
    "            # calculate distance of point to latest scatter point\n",
    "            dist_to_scatter[i,j] = dense_dist_mat_at_ij(distances, scatter_idx[-1], j, n)\n",
    "            # minimum distance of point from scattered points\n",
    "            min_dist = np.min(dist_to_scatter[:i+1,j])\n",
    "            if min_dist > max_dist:\n",
    "                max_dist = min_dist\n",
    "                max_point = j\n",
    "        scatter_idx.append(max_point)\n",
    "        \n",
    "    return [data[i] for i in scatter_idx], scatter_idx"
   ]
  },
  {
   "cell_type": "code",
   "execution_count": null,
   "metadata": {},
   "outputs": [],
   "source": [
    "import numpy as np\n",
    "data = np.random.rand(2000, 10).astype(np.float64)\n",
    "mean = np.zeros((10,)).astype(np.float64)\n",
    "# %timeit -n2 -r2 py_well_scattered_points(100, mean, data)\n",
    "%timeit -n2 -r2 well_scattered_points(1000, mean, data)\n",
    "%timeit -n2 -r2 wsp_fast(1000, mean, data)"
   ]
  },
  {
   "cell_type": "code",
   "execution_count": 72,
   "metadata": {
    "scrolled": false
   },
   "outputs": [],
   "source": [
    "import numpy as np\n",
    "data = np.random.rand(2000, 10).astype(np.float64)\n",
    "mean = np.zeros((10,)).astype(np.float64)\n",
    "_, idx1 = well_scattered_points(100, mean, data)\n",
    "_, idx2 = wsp_fast(100, mean, data)"
   ]
  },
  {
   "cell_type": "code",
   "execution_count": 73,
   "metadata": {},
   "outputs": [
    {
     "name": "stdout",
     "output_type": "stream",
     "text": [
      "[[1489  961  706  435  305 1126 1267  551  972  400  516 1500 1640  744\n",
      "   107  887  187  270 1531 1193  534  169  526 1610  335  896  948 1481\n",
      "    33  985 1079  440  765  680 1320 1507 1611    5 1061 1973 1334   52\n",
      "   699  203  701 1791  418  515  520 1851 1107  799  884 1440  224  158\n",
      "   264 1969  899 1200  634 1333  952  106  556 1431  674 1665 1024  986\n",
      "  1143 1981  471 1649  925  501  386 1986 1508  770  384  764 1591 1301\n",
      "   162 1170 1769  105 1230 1412  601  686 1711  681  628 1776  333 1821\n",
      "  1064 1475]\n",
      " [1489  961  706  435  305 1126 1267  551  972  400  516 1500 1640  744\n",
      "   107  887  187  270 1531 1193  534  169  526 1610  335  896  948 1481\n",
      "    33  985 1079  440  765  680 1320 1507 1611    5 1061 1973 1334   52\n",
      "   699  203  701 1791  418  515  520 1851 1107  799  884 1440  224  158\n",
      "   264 1969  899 1200  634 1333  952  106  556 1431  674 1665 1024  986\n",
      "  1143 1981  471 1649  925  501  386 1986 1508  770  384  764 1591 1301\n",
      "   162 1170 1769  105 1230 1412  601  686 1711  681  628 1776  333 1821\n",
      "  1064 1475]]\n"
     ]
    }
   ],
   "source": [
    "print(np.vstack((idx1, idx2)))"
   ]
  }
 ],
 "metadata": {
  "kernelspec": {
   "display_name": "Python 3",
   "language": "python",
   "name": "python3"
  },
  "language_info": {
   "codemirror_mode": {
    "name": "ipython",
    "version": 3
   },
   "file_extension": ".py",
   "mimetype": "text/x-python",
   "name": "python",
   "nbconvert_exporter": "python",
   "pygments_lexer": "ipython3",
   "version": "3.7.6"
  }
 },
 "nbformat": 4,
 "nbformat_minor": 4
}
